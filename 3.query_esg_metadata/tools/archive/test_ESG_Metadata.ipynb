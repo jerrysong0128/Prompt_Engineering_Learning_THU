{
 "cells": [
  {
   "cell_type": "code",
   "execution_count": 2,
   "metadata": {},
   "outputs": [],
   "source": [
    "from datetime import datetime\n",
    "import pandas as pd\n",
    "from tools.get_esg_language import query_ESG_Lan # only for language\n",
    "from tools.get_esg_metadata_with_lan import query_ESG_Metadata # only for language"
   ]
  },
  {
   "cell_type": "markdown",
   "metadata": {},
   "source": [
    "### 获得 URL of PDF"
   ]
  },
  {
   "cell_type": "code",
   "execution_count": 3,
   "metadata": {},
   "outputs": [
    {
     "name": "stdout",
     "output_type": "stream",
     "text": [
      "56154\n"
     ]
    }
   ],
   "source": [
    "# 读取 csv 文件\n",
    "urls_df = pd.read_csv('/Users/jerrysong/Study_phd/THU_Code_place/ESG_data/archive_meta/ESG_Report_Metadata.csv')\n",
    "# 创建包含id和pdf_url的元组列表\n",
    "id_url_list = list(zip(urls_df['id'], urls_df['pdf_url']))\n",
    "print(len(id_url_list))\n",
    "url_list_want = id_url_list[590:591] "
   ]
  },
  {
   "cell_type": "code",
   "execution_count": 6,
   "metadata": {},
   "outputs": [
    {
     "name": "stdout",
     "output_type": "stream",
     "text": [
      "    id                                            pdf_url report_title  \\\n",
      "0  591  http://www.sse.com.cn/disclosure/listedinfo/an...          Nan   \n",
      "\n",
      "  language  report_time report_start_date report_end_date publication_time  \\\n",
      "0      Nan         2024               Nan             Nan       2024-06-30   \n",
      "\n",
      "  country_code company_full_name company_short_name category stock_code  \\\n",
      "0          Nan               Nan                Nan      Nan     688190   \n",
      "\n",
      "  stock_name stock_market  \n",
      "0        Nan          Nan  \n",
      "id:  591  Collected at:  15:50:37   Total:  1\n"
     ]
    }
   ],
   "source": [
    "df_ESG_Metadata  = pd.DataFrame()\n",
    "\n",
    "def query_collection(id,url):\n",
    "    respond_lan = query_ESG_Lan(id,url)\n",
    "    respond_Metadata = query_ESG_Metadata(id,url,respond_lan[\"language\"])\n",
    "    return respond_Metadata\n",
    "\n",
    "for id_url in url_list_want:\n",
    "    id = id_url[0]\n",
    "    url = id_url[1]\n",
    "    json_respond = query_collection(id,url)\n",
    "    print(json_respond)\n",
    "    df_ESG_Metadata = pd.concat([df_ESG_Metadata, pd.DataFrame([json_respond])], axis=0)\n",
    "    print(\"id: \", id, \" Collected at: \", datetime.now().strftime(\"%H:%M:%S\"), \"  Total: \", len(df_ESG_Metadata))\n",
    "\n",
    "\n",
    "now = datetime.now()\n",
    "dt_string_now = now.strftime(\"%Y%m%d_%H%M%S\")\n",
    "df_ESG_Metadata.to_csv(f'./out/ESG_Report_Metadata_{dt_string_now}.csv', index=False)"
   ]
  },
  {
   "cell_type": "markdown",
   "metadata": {},
   "source": [
    "#### only identify the language type"
   ]
  },
  {
   "cell_type": "code",
   "execution_count": 4,
   "metadata": {},
   "outputs": [
    {
     "name": "stdout",
     "output_type": "stream",
     "text": [
      "{'id': 591, 'pdf_url': 'http://www.sse.com.cn/disclosure/listedinfo/announcement/c/new/2024-04-30/688190_20240430_9372.pdf', 'language': 'chi_sim'}\n"
     ]
    }
   ],
   "source": [
    "df_ESG_Metadata_lan = pd.DataFrame()\n",
    "\n",
    "for id, url in url_list_want:\n",
    "    respond = query_ESG_Lan(id,url)\n",
    "    print(respond)\n",
    "    new_row = pd.DataFrame([respond])\n",
    "    df_ESG_Metadata_lan = pd.concat([df_ESG_Metadata_lan, new_row], ignore_index=True)"
   ]
  },
  {
   "cell_type": "code",
   "execution_count": 5,
   "metadata": {},
   "outputs": [
    {
     "data": {
      "text/plain": [
       "'chi_sim'"
      ]
     },
     "execution_count": 5,
     "metadata": {},
     "output_type": "execute_result"
    }
   ],
   "source": [
    "respond[\"language\"]"
   ]
  },
  {
   "cell_type": "markdown",
   "metadata": {},
   "source": [
    "#### extract other info with graph in a certain language"
   ]
  },
  {
   "cell_type": "code",
   "execution_count": 10,
   "metadata": {},
   "outputs": [
    {
     "name": "stdout",
     "output_type": "stream",
     "text": [
      "{'id': 590, 'pdf_url': 'http://www.sse.com.cn/disclosure/listedinfo/announcement/c/new/2024-04-30/600783_20240430_OAPF.pdf', 'report_title': '环境、社会和公司治理 (ESG) 报告', 'language': '中文', 'report_time': 2023, 'report_start_date': '2023-01-01', 'report_end_date': '2023-12-31', 'publication_time': '2024-04-28', 'country_code': 'CHN', 'company_full_name': '鲁信创业投资集团股份有限公司', 'company_short_name': '鲁信创投', 'category': 'Financial Services', 'stock_code': '600783', 'stock_name': '鲁信创投', 'stock_market': '上海证券交易所'}\n",
      "{'id': 591, 'pdf_url': 'http://www.sse.com.cn/disclosure/listedinfo/announcement/c/new/2024-04-30/688190_20240430_9372.pdf', 'report_title': 'ESG Report', 'language': 'Chinese', 'report_time': 2023, 'report_start_date': '2023-01-01', 'report_end_date': '2023-12-31', 'publication_time': '2024-04-30', 'country_code': 'CHN', 'company_full_name': '云路股份', 'company_short_name': 'YunLu', 'category': 'Specialty Retail', 'stock_code': '688190', 'stock_name': 'YunLu Advanced Materials', 'stock_market': '上海交易所'}\n"
     ]
    }
   ],
   "source": [
    "# 创建包含id和pdf_url的元组列表\n",
    "id_url_lan_list = list(zip(df_ESG_Metadata_lan['id'], df_ESG_Metadata_lan['pdf_url'],df_ESG_Metadata_lan['language']))\n",
    "\n",
    "df_ESG_Metadata_full  = pd.DataFrame()\n",
    "\n",
    "for id, url, lan in id_url_lan_list:\n",
    "    respond = query_ESG_Metadata(id,url,lan)\n",
    "    print(respond)\n",
    "    new_row = pd.DataFrame([respond])\n",
    "    df_ESG_Metadata_full = pd.concat([df_ESG_Metadata_full, new_row], ignore_index=True)"
   ]
  },
  {
   "cell_type": "code",
   "execution_count": 11,
   "metadata": {},
   "outputs": [],
   "source": [
    "# 保存调整后的DataFrame到新的CSV文件\n",
    "now = datetime.now()\n",
    "dt_string_now = now.strftime(\"%Y%m%d_%H%M%S\")\n",
    "df_ESG_Metadata_full.to_csv(f'./out/_ESG_Report_Metadata__lang_{dt_string_now}.csv', index=False)"
   ]
  }
 ],
 "metadata": {
  "kernelspec": {
   "display_name": "thu_tiangong",
   "language": "python",
   "name": "python3"
  },
  "language_info": {
   "codemirror_mode": {
    "name": "ipython",
    "version": 3
   },
   "file_extension": ".py",
   "mimetype": "text/x-python",
   "name": "python",
   "nbconvert_exporter": "python",
   "pygments_lexer": "ipython3",
   "version": "3.9.19"
  }
 },
 "nbformat": 4,
 "nbformat_minor": 2
}
