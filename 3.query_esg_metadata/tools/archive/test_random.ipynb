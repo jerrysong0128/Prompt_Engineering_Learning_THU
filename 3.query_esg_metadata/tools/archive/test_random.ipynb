{
 "cells": [
  {
   "cell_type": "code",
   "execution_count": 8,
   "metadata": {},
   "outputs": [],
   "source": [
    "from pdf2image import convert_from_bytes\n",
    "import requests\n",
    "import pytesseract"
   ]
  },
  {
   "cell_type": "code",
   "execution_count": 9,
   "metadata": {},
   "outputs": [
    {
     "name": "stdout",
     "output_type": "stream",
     "text": [
      "10 43 人 才 培 訓\n",
      "\n",
      "11 44 員 工 健 康 與 安 全\n",
      "12 5﹒ 合 規 然 運\n",
      "\n",
      "12 5﹒1 提 高 服 務 品 質\n",
      "13 52 客 戶 服 務\n",
      "\n",
      "13 5﹒3 保 障 信 息 隱 私\n",
      "14 54 反 貪 汙\n",
      "\n",
      "14 55 供 應 商 管 理\n",
      "15 6. 綠 色 發 展\n",
      "\n",
      "15 6.1 溫 室 氣 體 管 理\n",
      "16 6.2 能 源 管 理\n",
      "18 6﹒3 可 持 續 建 築\n",
      "18 6﹒4 環 境 目 標\n",
      "\n",
      "19 6﹒5 減 緩 氣 候 讚 化\n",
      "\n",
      "21 附錄 可 持 續 發 展 數 據 摘 要\n",
      "35 。 附 錄 二 ﹕ 聯 交 所 《 環 境 、 社 會 及 管 治 報 告 指 引 清 引\n",
      "\n",
      "\n"
     ]
    }
   ],
   "source": [
    "url=\"https://www1.hkexnews.hk//listedco/listconews/sehk/2024/0430/2024043001678_c.pdf\"\n",
    "response = requests.get(url)\n",
    "pdf_bytes = response.content\n",
    "images = convert_from_bytes(pdf_bytes, first_page=1, last_page=1)\n",
    "lan=\"chi_tra+eng\"\n",
    "print(pytesseract.image_to_string(images[0], lang=lan))"
   ]
  }
 ],
 "metadata": {
  "kernelspec": {
   "display_name": "thu_tiangong",
   "language": "python",
   "name": "python3"
  },
  "language_info": {
   "codemirror_mode": {
    "name": "ipython",
    "version": 3
   },
   "file_extension": ".py",
   "mimetype": "text/x-python",
   "name": "python",
   "nbconvert_exporter": "python",
   "pygments_lexer": "ipython3",
   "version": "3.9.19"
  }
 },
 "nbformat": 4,
 "nbformat_minor": 2
}
