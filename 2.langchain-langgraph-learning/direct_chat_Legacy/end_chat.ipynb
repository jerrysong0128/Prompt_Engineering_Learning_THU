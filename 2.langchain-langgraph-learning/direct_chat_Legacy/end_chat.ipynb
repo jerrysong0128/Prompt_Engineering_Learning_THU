{
 "cells": [
  {
   "cell_type": "code",
   "execution_count": 84,
   "metadata": {},
   "outputs": [],
   "source": [
    "import openai\n",
    "from openai import OpenAI\n",
    "import os\n",
    "import requests\n",
    "import logging\n",
    "from datetime import datetime"
   ]
  },
  {
   "cell_type": "code",
   "execution_count": 85,
   "metadata": {},
   "outputs": [],
   "source": [
    "os.environ['OPENAI_API_KEY'] = '<OPENAI_API_KEY>'  # Replace with your actual API key\n",
    "client = OpenAI()\n",
    "\n",
    "# Set the URL\n",
    "url = 'http://47.253.94.63:8900/search_academic_db'\n",
    "\n",
    "# Define the headers\n",
    "headers = {\n",
    "    'accept': 'application/json',\n",
    "    'Authorization': 'Bearer <Authorization_key>',\n",
    "    'Content-Type': 'application/json'\n",
    "}"
   ]
  },
  {
   "cell_type": "code",
   "execution_count": 86,
   "metadata": {},
   "outputs": [],
   "source": [
    "def generate_embedding(prompt_processes,top_k):\n",
    "    payload_processes = {\n",
    "    \"query\": f\"output of {prompt_processes}\",\n",
    "    \"top_k\": top_k\n",
    "    }\n",
    "    response_processes = requests.post(url, headers=headers, json=payload_processes)\n",
    "\n",
    "    # Check if the request was successful\n",
    "    if response_processes.status_code == 200:\n",
    "        output_embedding = response_processes.json()\n",
    "        output_embedding_reference = output_embedding[\"result\"]\n",
    "    else:\n",
    "        print(\"Request failed with status code:\", response_processes.status_code)\n",
    "        Warning\n",
    "    \n",
    "    return output_embedding_reference"
   ]
  },
  {
   "cell_type": "code",
   "execution_count": 87,
   "metadata": {},
   "outputs": [],
   "source": [
    "def ask_chatgpt_embedding(prompt_processes,top_k,model):\n",
    "    try:\n",
    "      prompt_processes_embedding = generate_embedding(prompt_processes,top_k)\n",
    "\n",
    "      response = client.chat.completions.create(\n",
    "         model=model,\n",
    "         messages=[\n",
    "            {\n",
    "                \"role\": \"system\",\n",
    "                \"content\": \"You are an academic reseacrcher learning processes and data for life cycle assessment.\"\n",
    "               },\n",
    "            {\n",
    "                \"role\": \"user\",\n",
    "                \"content\": f\"\"\"\n",
    "Must Follow:\n",
    "- List the input and output of production process named \"{prompt_processes}\" in particular substance matter name, in the same language.\n",
    "- Consider emissions as output\n",
    "- Using information from \"{prompt_processes_embedding}\" (if available) and your own knowledge to provide a logical, clear, and critically analyzed reply.\n",
    "- Employ bullet points selectively, where they add clarity or organization.\n",
    "- Cite sources in main text using the Author-Date citation style where applicable.\n",
    "- Provide a list of references in markdown format of [title.journal.authors.date.](hyperlinks) at the end (or just the source file name), only for the references mentioned in the generated text.\n",
    "- Use LaTeX quoted by '$' or '$$' within markdown to render mathematical formulas.\n",
    "\n",
    "Must Avoid:\n",
    "- Decript anything other than input and output\n",
    "- List ambiguous broad category names\n",
    "- Using \"e.g.\" or using \"such as\"\n",
    "- Repeat the human's query.\n",
    "- Translate cited references into the query's language.\n",
    "- Preface responses with any designation such as \"AI:\".\"\"\"\n",
    "            }\n",
    "            ],\n",
    "        temperature=0.8,\n",
    "        max_tokens=2000,\n",
    "        top_p=1\n",
    "        )\n",
    "      revised_response = response.choices[0].message.content+\"\\n\\nThe Used Token \\n\"+str(response.usage.total_tokens)\n",
    "      return revised_response\n",
    "    except Exception as e:\n",
    "      return str(e)"
   ]
  },
  {
   "cell_type": "code",
   "execution_count": 88,
   "metadata": {},
   "outputs": [],
   "source": [
    "def log_and_generate_markdown(prompt, model, top_k, response):\n",
    "    # Current date and time\n",
    "    now = datetime.now()\n",
    "    date_today = now.strftime('%Y-%m-%d')\n",
    "    time_now = now.strftime('%H:%M:%S')\n",
    "    \n",
    "    # Get response from the chat function\n",
    "    #response = ask_chatgpt_embedding(prompt, tokens, model)\n",
    "    \n",
    "    # Markdown content\n",
    "    markdown_content = f\"\"\"\n",
    "**Date:** {date_today}  \n",
    "**Time:** {time_now}  \n",
    "**Model:** {model}  \n",
    "**Num of Embeddings:** {str(top_k)}  \n",
    "**Prompt:** {prompt}  \n",
    "**Response:**  \n",
    "{response}\n",
    "\"\"\"\n",
    "    # Write to a markdown file\n",
    "    with open(f'out_md/{date_today}_{time_now}.md', 'w') as file:\n",
    "        file.write(markdown_content)"
   ]
  },
  {
   "cell_type": "code",
   "execution_count": 90,
   "metadata": {},
   "outputs": [],
   "source": [
    "# Example usage\n",
    "prompt = \"modern dry process, five-stage kiln external decomposition, 4000 t/d\"\n",
    "response = ask_chatgpt_embedding(prompt, 10, model=\"gpt-4o\")\n",
    "log_and_generate_markdown(prompt, \"gpt-4o\", 10, response)\n"
   ]
  },
  {
   "cell_type": "code",
   "execution_count": 91,
   "metadata": {},
   "outputs": [
    {
     "name": "stdout",
     "output_type": "stream",
     "text": [
      "[{'content': 'II. GENERAL PLANT DESCRIPTION 1) Location: The new 2700 tons per day (t/d) nominal capacity line, expected to produce 3000 t/d, is located alongside the new dock, at a distance of approximately 1 km from the original 2200 t/d capacity wet process plant.\\n\\n2) Rawt? Mix: The raw mix consists of three main com- ponents, which are limestone, black and white shale, plus sand and iron ore additives.\\n\\nInitially, w<e had planned to install a centralized manual control system and add automation at a later date. How- ever, after thorough reflection it was concluded that in- stalling computer control in an existing plant would even-', 'source': '[The New Integrated and Automated Production Line at Pertigalete. IEEE TRANSACTIONS ON INDUSTRY APPLICATIONS. Carlos Meneses, Juan Cayo De Azcarate, Pompeyo Rios, Alfredo Mujica, Pablo A. Useche, Herbert Egger, Carlos Tumang. 1975-09.](https://doi.org/10.1109/tia.1975.349368)'}, {'content': 'Cases 5 and 6: In Cases 5 and 6 the existing wet process kiln was utilized as part of the conversion to SF process. A 12-ft diameter kiln is capable of producing 2000 ton/day or 650 000 ton/yr.\\n\\n270 240 WET PROCESS COST 210j DRY PROCESS COST-\\\\ (0 4t -J 0 0 z 2 0 1- 180- PRESENT VALUE CASH OUTFLOW 150 .A. el 120 Co0 (C.) 90t 601 PRESENT VALUE INCREMENTAL CASH FLOW 30 0 18 6 12 3 9 15 YEAR OF PROJECT\\n\\nCase 5 involves converting one wet process kiln. The total plant production is therefore increased from 300 000 ton/yr to 650 000 ton/yr. New raw grinding, dry homogenization, and increased finish mill capacity is necessary. Fig. 7 and Table XI show that the incremental cash flow exceeds the', 'source': '[Economic Feasibility of Wet-to-Dry Conversion in North America. IEEE TRANSACTIONS ON INDUSTRY APPLICATIONS. Alan J. Kreisberg, Bernard H. Schonbach. 1984-05.](https://doi.org/10.1109/tia.1984.4504451)'}, {'content': 'In 2005, the share of cement produced by the new dry process (using a pre-heater and pre-calciner kiln) was just around 45% [23], but after six years, 86.83% of clinker and 89% of cement is produced through this new dry process [5] at 2011. There were 10 kilns operating with a capacity of 7200 t clinker/day each (includ- ing 7 kilns with capacity of 10,000 t clinker/day each), and more than half of the cement produced used kilns capable of producing more than 4000 t clinker/day [5]. A new, recently designed kiln has the thermal energy consumption around 2.95 GJ/t clinker [5],', 'source': '[Quantifying CO2 emissions from China’s cement industry. RENEWABLE AND SUSTAINABLE ENERGY REVIEWS. Weiguo Shen, Liu Cao, Qiu Li, Wensheng Zhang, Guiming Wang, Chaochao Li. 2015-10.](https://doi.org/10.1016/j.rser.2015.05.031)'}]\n"
     ]
    }
   ],
   "source": [
    "print(generate_embedding(\"new dry process, 2000-4000 t/d\",3))"
   ]
  },
  {
   "cell_type": "code",
   "execution_count": 92,
   "metadata": {},
   "outputs": [
    {
     "name": "stdout",
     "output_type": "stream",
     "text": [
      "[{'content': 'II. GENERAL PLANT DESCRIPTION 1) Location: The new 2700 tons per day (t/d) nominal capacity line, expected to produce 3000 t/d, is located alongside the new dock, at a distance of approximately 1 km from the original 2200 t/d capacity wet process plant.\\n\\n2) Rawt? Mix: The raw mix consists of three main com- ponents, which are limestone, black and white shale, plus sand and iron ore additives.\\n\\nInitially, w<e had planned to install a centralized manual control system and add automation at a later date. How- ever, after thorough reflection it was concluded that in- stalling computer control in an existing plant would even-', 'source': '[The New Integrated and Automated Production Line at Pertigalete. IEEE TRANSACTIONS ON INDUSTRY APPLICATIONS. Carlos Meneses, Juan Cayo De Azcarate, Pompeyo Rios, Alfredo Mujica, Pablo A. Useche, Herbert Egger, Carlos Tumang. 1975-09.](https://doi.org/10.1109/tia.1975.349368)'}, {'content': 'Cases 5 and 6: In Cases 5 and 6 the existing wet process kiln was utilized as part of the conversion to SF process. A 12-ft diameter kiln is capable of producing 2000 ton/day or 650 000 ton/yr.\\n\\n270 240 WET PROCESS COST 210j DRY PROCESS COST-\\\\ (0 4t -J 0 0 z 2 0 1- 180- PRESENT VALUE CASH OUTFLOW 150 .A. el 120 Co0 (C.) 90t 601 PRESENT VALUE INCREMENTAL CASH FLOW 30 0 18 6 12 3 9 15 YEAR OF PROJECT\\n\\nCase 5 involves converting one wet process kiln. The total plant production is therefore increased from 300 000 ton/yr to 650 000 ton/yr. New raw grinding, dry homogenization, and increased finish mill capacity is necessary. Fig. 7 and Table XI show that the incremental cash flow exceeds the', 'source': '[Economic Feasibility of Wet-to-Dry Conversion in North America. IEEE TRANSACTIONS ON INDUSTRY APPLICATIONS. Alan J. Kreisberg, Bernard H. Schonbach. 1984-05.](https://doi.org/10.1109/tia.1984.4504451)'}, {'content': 'In 2005, the share of cement produced by the new dry process (using a pre-heater and pre-calciner kiln) was just around 45% [23], but after six years, 86.83% of clinker and 89% of cement is produced through this new dry process [5] at 2011. There were 10 kilns operating with a capacity of 7200 t clinker/day each (includ- ing 7 kilns with capacity of 10,000 t clinker/day each), and more than half of the cement produced used kilns capable of producing more than 4000 t clinker/day [5]. A new, recently designed kiln has the thermal energy consumption around 2.95 GJ/t clinker [5],', 'source': '[Quantifying CO2 emissions from China’s cement industry. RENEWABLE AND SUSTAINABLE ENERGY REVIEWS. Weiguo Shen, Liu Cao, Qiu Li, Wensheng Zhang, Guiming Wang, Chaochao Li. 2015-10.](https://doi.org/10.1016/j.rser.2015.05.031)'}]\n"
     ]
    }
   ],
   "source": [
    "print(generate_embedding(\"new dry process, <2000 t/d\",3))"
   ]
  }
 ],
 "metadata": {
  "kernelspec": {
   "display_name": "thu_tiangong",
   "language": "python",
   "name": "python3"
  },
  "language_info": {
   "codemirror_mode": {
    "name": "ipython",
    "version": 3
   },
   "file_extension": ".py",
   "mimetype": "text/x-python",
   "name": "python",
   "nbconvert_exporter": "python",
   "pygments_lexer": "ipython3",
   "version": "3.8.19"
  }
 },
 "nbformat": 4,
 "nbformat_minor": 2
}
