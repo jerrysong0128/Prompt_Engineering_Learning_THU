{
 "cells": [
  {
   "cell_type": "markdown",
   "id": "39fd1948-b5c3-48c4-b10e-2ae7e8c83334",
   "metadata": {},
   "source": [
    "# Multi-agent Collaboration"
   ]
  },
  {
   "cell_type": "code",
   "execution_count": 2,
   "id": "0d7b6dcc-c985-46e2-8457-7e6b0298b950",
   "metadata": {},
   "outputs": [],
   "source": [
    "# Dependency\n",
    "# !pip install -U langchain langchain_openai langsmith pandas langchain_experimental matplotlib langgraph langchain_core"
   ]
  },
  {
   "cell_type": "markdown",
   "id": "790fb9c5",
   "metadata": {},
   "source": [
    "### Read APIs"
   ]
  },
  {
   "cell_type": "code",
   "execution_count": 3,
   "id": "743c19df-6da9-4d1e-b2d2-ea40080b9fdc",
   "metadata": {},
   "outputs": [],
   "source": [
    "import os\n",
    "openai_api_key = os.getenv('OPENAI_API_KEY')\n",
    "langchain_api_key = os.getenv('LANGCHAIN_API_KEY')\n",
    "tavily_api_key = os.getenv('TAVILY_API_KEY')"
   ]
  },
  {
   "cell_type": "markdown",
   "id": "5e4344a7-21df-4d54-90d2-9d19b3416ffb",
   "metadata": {},
   "source": [
    "## Create Agents"
   ]
  },
  {
   "cell_type": "code",
   "execution_count": 4,
   "id": "4325a10e-38dc-4a98-9004-e1525eaba377",
   "metadata": {},
   "outputs": [],
   "source": [
    "from langchain_core.messages import (\n",
    "    BaseMessage,\n",
    "    HumanMessage,\n",
    "    ToolMessage,\n",
    ")\n",
    "from langchain_core.prompts import ChatPromptTemplate, MessagesPlaceholder\n",
    "\n",
    "from langgraph.graph import END, StateGraph\n",
    "\n",
    "\n",
    "def create_agent(llm, tools, system_message: str):\n",
    "    \"\"\"Create an agent.\"\"\"\n",
    "    prompt = ChatPromptTemplate.from_messages(\n",
    "        [\n",
    "            (\n",
    "                \"system\",\n",
    "                \" You are a helpful AI assistant, collaborating with other assistants.\"\n",
    "                \" Use the provided tools to progress towards answering the question.\"\n",
    "                \" If you are unable to fully answer, that's OK, another assistant with different tools \"\n",
    "                \" will help where you left off. Execute what you can to make progress.\"\n",
    "                \" If you or any of the other assistants have the final answer or deliverable,\"\n",
    "                \" prefix your response with FINAL ANSWER so the team knows to stop.\"\n",
    "                \" You have access to the following tools: {tool_names}.\\n{system_message} (if needed)\"\n",
    "            ),\n",
    "            MessagesPlaceholder(variable_name=\"messages\"),\n",
    "        ]\n",
    "    )\n",
    "    prompt = prompt.partial(system_message=system_message)\n",
    "    prompt = prompt.partial(tool_names=\", \".join([tool.name for tool in tools]))\n",
    "    return prompt | llm.bind_tools(tools)"
   ]
  },
  {
   "cell_type": "markdown",
   "id": "b4b40de2-5dd4-4d5b-882e-577210723ff4",
   "metadata": {},
   "source": [
    "## Define tools"
   ]
  },
  {
   "cell_type": "code",
   "execution_count": 5,
   "id": "ca076f3b-a729-4ca9-8f91-05c2ba58d610",
   "metadata": {},
   "outputs": [],
   "source": [
    "from typing import Annotated\n",
    "import fitz  # PyMuPDF\n",
    "import requests\n",
    "from io import BytesIO\n",
    "from langchain_community.tools.tavily_search import TavilySearchResults\n",
    "from langchain_core.tools import tool\n",
    "\n",
    "tavily_tool = TavilySearchResults(max_results=3)\n",
    "\n",
    "# Warning: This executes code locally, which can be unsafe when not sandboxed\n",
    "\n",
    "\n",
    "@tool\n",
    "def identify_exchange_market(url: str) -> str:\n",
    "    \"\"\"\n",
    "    Inference the exchange market the company is listed on using the URL of a report PDF.\n",
    "    Parameters:\n",
    "    url (str): The URL to be checked.\n",
    "    Returns:\n",
    "    str: The name of the exchange.\n",
    "    \"\"\"\n",
    "    if \"sse.com.cn\" in url:\n",
    "        return \"上海交易所\"\n",
    "    elif \"szse.cn\" in url:\n",
    "        return \"深圳交易所\"\n",
    "    elif \"sgx.com\" in url:\n",
    "        return \"新加坡交易所\"\n",
    "    elif \"hkexnews.hk\" in url:\n",
    "        return \"香港交易所\"\n",
    "    else:\n",
    "        return \"no match is found\"  # Return \"Unknown Exchange\" if no match is found\n",
    "    \n",
    "\n",
    "\n",
    "\n",
    "@tool\n",
    "def extract_pdf_text_from_url(url: str, page_number: int) -> str:\n",
    "    \"\"\"\n",
    "    Extracts text from a specified page number from a PDF file available at a given URL.\n",
    "    Args:\n",
    "        url (str): The URL of the PDF file.\n",
    "        page_number (int): The page number to extract text from (1-based index).\n",
    "    Returns:\n",
    "        str: The extracted text from the specified page, limited to 300 words..\n",
    "    Raises:\n",
    "        ValueError: If the URL is invalid or the page number exceeds the total pages in the PDF.\n",
    "    \"\"\"\n",
    "    # Download the PDF file\n",
    "    response = requests.get(url)\n",
    "    pdf_data = BytesIO(response.content)\n",
    "\n",
    "    # Open the PDF file\n",
    "    document = fitz.open(stream=pdf_data, filetype=\"pdf\")\n",
    "\n",
    "    # Validate the page number\n",
    "    if page_number < 1 or page_number > len(document):\n",
    "        raise ValueError(\"Page number out of range\")\n",
    "\n",
    "    # Extract text from the specified page (0-based index for PyMuPDF)\n",
    "    page = document.load_page(page_number - 1)\n",
    "    page_text = page.get_text()\n",
    "\n",
    "    # Limit the text to 200 words\n",
    "    words = page_text.split()\n",
    "    if len(words) > 200:\n",
    "        words = words[:200]\n",
    "    limited_text = ' '.join(words)\n",
    "\n",
    "    return limited_text"
   ]
  },
  {
   "cell_type": "markdown",
   "id": "f1b54c0c-0b09-408b-abc5-86308929afb6",
   "metadata": {},
   "source": [
    "## Create graph"
   ]
  },
  {
   "cell_type": "markdown",
   "id": "0c6a8c3c-86a0-46aa-b970-ab070fb787d9",
   "metadata": {},
   "source": [
    "### Define State\n",
    "\n",
    "We first define the state of the graph. This will just a list of messages, along with a key to track the most recent sender"
   ]
  },
  {
   "cell_type": "code",
   "execution_count": 6,
   "id": "290c91d4-f6f4-443c-8181-233d39102974",
   "metadata": {},
   "outputs": [],
   "source": [
    "import operator\n",
    "from typing import Annotated, Sequence, TypedDict\n",
    "\n",
    "from langchain_openai import ChatOpenAI\n",
    "\n",
    "\n",
    "# This defines the object that is passed between each node\n",
    "# in the graph. We will create different nodes for each agent and tool\n",
    "class AgentState(TypedDict):\n",
    "    messages: Annotated[Sequence[BaseMessage], operator.add]\n",
    "    sender: str"
   ]
  },
  {
   "cell_type": "markdown",
   "id": "911a283e-ea04-40c1-b792-f9e5f7d81203",
   "metadata": {},
   "source": [
    "### Define Agent Nodes"
   ]
  },
  {
   "cell_type": "code",
   "execution_count": 7,
   "id": "71b790ca-9cef-4b22-b469-4b1d5d8424d6",
   "metadata": {},
   "outputs": [],
   "source": [
    "import functools\n",
    "\n",
    "from langchain_core.messages import AIMessage\n",
    "\n",
    "\n",
    "# Helper function to create a node for a given agent\n",
    "def agent_node(state, agent, name):\n",
    "    result = agent.invoke(state)\n",
    "    # We convert the agent output into a format that is suitable to append to the global state\n",
    "    if isinstance(result, ToolMessage):\n",
    "        pass\n",
    "    else:\n",
    "        result = AIMessage(**result.dict(exclude={\"type\", \"name\"}), name=name)\n",
    "    return {\n",
    "        \"messages\": [result],\n",
    "        # Since we have a strict workflow, we can\n",
    "        # track the sender so we know who to pass to next.\n",
    "        \"sender\": name,\n",
    "    }\n",
    "\n",
    "\n",
    "llm = ChatOpenAI(model=\"gpt-4o\")\n",
    "\n",
    "# Research agent and node\n",
    "research_agent = create_agent(\n",
    "    llm,\n",
    "    [tavily_tool],\n",
    "    system_message=\"You should provide accurate information for use\"\n",
    "        \"clearly predict the page number of the potential information\"\n",
    ")\n",
    "research_node = functools.partial(agent_node, agent=research_agent, name=\"Researcher\")\n",
    "\n",
    "# stock_market_agent\n",
    "Stock_Market_Agent = create_agent(\n",
    "    llm,\n",
    "    [identify_exchange_market],\n",
    "    system_message=\"Inference the exchange market the company is listed on using the URL of a report PDF.\",\n",
    ")\n",
    "chart_node = functools.partial(agent_node, agent=Stock_Market_Agent, name=\"stock_market_agent\")\n",
    "\n",
    "# pdf_agent\n",
    "pdf_agent = create_agent(\n",
    "    llm,\n",
    "    [extract_pdf_text_from_url],\n",
    "    system_message=\"Extracts text from a specified page number from a PDF file available at a given URL.\",\n",
    ")\n",
    "pdf_node = functools.partial(agent_node, agent=pdf_agent, name=\"pdf_agent\")"
   ]
  },
  {
   "cell_type": "markdown",
   "id": "71c7f1b2-24a3-4340-bcb2-feb22e344fb6",
   "metadata": {},
   "source": [
    "### Define Tool Node"
   ]
  },
  {
   "cell_type": "code",
   "execution_count": 8,
   "id": "d9a79c76-5c7c-42f6-91cf-635bc8305804",
   "metadata": {},
   "outputs": [],
   "source": [
    "from langgraph.prebuilt import ToolNode\n",
    "\n",
    "tools = [tavily_tool, identify_exchange_market, extract_pdf_text_from_url]\n",
    "tool_node = ToolNode(tools)"
   ]
  },
  {
   "cell_type": "markdown",
   "id": "bcb30498-dbc4-4b20-980f-da08ebc9da56",
   "metadata": {},
   "source": [
    "### Define Edge Logic"
   ]
  },
  {
   "cell_type": "code",
   "execution_count": 9,
   "id": "4f4b4d37-e8a3-4abb-8d42-eaea26016f35",
   "metadata": {},
   "outputs": [],
   "source": [
    "# Either agent can decide to end\n",
    "from typing import Literal\n",
    "\n",
    "\n",
    "def router(state) -> Literal[\"call_tool\", \"__end__\", \"continue\"]:\n",
    "    # This is the router\n",
    "    messages = state[\"messages\"]\n",
    "    last_message = messages[-1]\n",
    "    if last_message.tool_calls:\n",
    "        # The previous agent is invoking a tool\n",
    "        return \"call_tool\"\n",
    "    if \"FINAL ANSWER\" in last_message.content:\n",
    "        # Any agent decided the work is done\n",
    "        return \"__end__\"\n",
    "    return \"continue\""
   ]
  },
  {
   "cell_type": "markdown",
   "id": "e9359c34-e191-43a2-a3d4-f2dea636dfd2",
   "metadata": {},
   "source": [
    "### Define the Graph"
   ]
  },
  {
   "cell_type": "code",
   "execution_count": 10,
   "id": "4dce3901-6ad5-4df5-8528-6e865cf96cb0",
   "metadata": {},
   "outputs": [],
   "source": [
    "workflow = StateGraph(AgentState)\n",
    "\n",
    "workflow.add_node(\"Researcher\", research_node)\n",
    "workflow.add_node(\"stock_market_agent\", chart_node)\n",
    "workflow.add_node(\"pdf_agent\", pdf_node)\n",
    "workflow.add_node(\"call_tool\", tool_node)\n",
    "\n",
    "workflow.add_conditional_edges(\n",
    "    \"Researcher\",\n",
    "    router,\n",
    "    {\"continue\": \"stock_market_agent\", \"continue\": \"pdf_agent\",\"call_tool\": \"call_tool\", \"__end__\": END},\n",
    ")\n",
    "workflow.add_conditional_edges(\n",
    "    \"stock_market_agent\",\n",
    "    router,\n",
    "    {\"continue\": \"Researcher\", \"call_tool\": \"call_tool\", \"__end__\": END},\n",
    ")\n",
    "workflow.add_conditional_edges(\n",
    "    \"pdf_agent\",\n",
    "    router,\n",
    "    {\"continue\": \"Researcher\", \"call_tool\": \"call_tool\", \"__end__\": END},\n",
    ")\n",
    "\n",
    "workflow.add_conditional_edges(\n",
    "    \"call_tool\",\n",
    "    # Each agent node updates the 'sender' field\n",
    "    # the tool calling node does not, meaning\n",
    "    # this edge will route back to the original agent\n",
    "    # who invoked the tool\n",
    "    lambda x: x[\"sender\"],\n",
    "    {\n",
    "        \"Researcher\": \"Researcher\",\n",
    "        \"stock_market_agent\": \"stock_market_agent\",\n",
    "        \"pdf_agent\": \"pdf_agent\",\n",
    "    },\n",
    ")\n",
    "workflow.set_entry_point(\"Researcher\")\n",
    "graph = workflow.compile()"
   ]
  },
  {
   "cell_type": "markdown",
   "id": "fc49ad1f",
   "metadata": {},
   "source": [
    "### Display the Graph"
   ]
  },
  {
   "cell_type": "code",
   "execution_count": 11,
   "id": "97f8e0eb",
   "metadata": {},
   "outputs": [
    {
     "data": {
      "image/jpeg": "[encoded data removed]",
      "text/plain": [
       "<IPython.core.display.Image object>"
      ]
     },
     "metadata": {},
     "output_type": "display_data"
    }
   ],
   "source": [
    "from IPython.display import Image, display\n",
    "\n",
    "try:\n",
    "    display(Image(graph.get_graph(xray=True).draw_mermaid_png()))\n",
    "except Exception:\n",
    "    # This requires some extra dependencies and is optional\n",
    "    pass"
   ]
  },
  {
   "cell_type": "markdown",
   "id": "8c9447e7-9ab6-43eb-8ae6-9b52f8ba8425",
   "metadata": {},
   "source": [
    "## Invoke"
   ]
  },
  {
   "cell_type": "code",
   "execution_count": 14,
   "id": "176a99b0-b457-45cf-8901-90facaa852da",
   "metadata": {},
   "outputs": [
    {
     "name": "stdout",
     "output_type": "stream",
     "text": [
      "================================\u001b[1m Human Message \u001b[0m=================================\n",
      "\n",
      "The pdf (https://www.seadrill.com/wp-content/uploads/2024/01/Seadrill_-Sustainability-2022.pdf) is an ESG report from a company. MUST RETURN (in PDF's language): 1. The exchange market the company is listed on. 2. The report name. 3. The reporting period. 4. The report release date. 5. The company listed stock name. 6. The company listed stock code. 7. The company full name. 8. The Industry classification of the company's main business operations.\n",
      "==================================\u001b[1m Ai Message \u001b[0m==================================\n",
      "Name: Researcher\n",
      "Tool Calls:\n",
      "  tavily_search_results_json (call_RNe1Yfjp9idA8ziVie45wXeq)\n",
      " Call ID: call_RNe1Yfjp9idA8ziVie45wXeq\n",
      "  Args:\n",
      "    query: Seadrill Sustainability 2022 ESG report\n",
      "=================================\u001b[1m Tool Message \u001b[0m=================================\n",
      "Name: tavily_search_results_json\n",
      "\n",
      "[{\"url\": \"https://www.seadrill.com/wp-content/uploads/2024/01/Seadrill_-Sustainability-2022.pdf\", \"content\": \"The report presents the environmental, social, and governance (ESG) performance of Seadrill Limited, together with its consolidated subsidiaries, along with its management approach to material sustainability topics, for the 2022 calendar ... Seadrill's 2022 Sustainability Report is organized around our four focus areas - Environment, Safe ...\"}, {\"url\": \"https://www.seadrill.com/sustainability/\", \"content\": \"Explore Seadrill's recent efforts in increasing the sustainability of our business and read about our milestones in our 2022 Sustainability Report. At Seadrill, we are minimizing the impact our activities have on the environment by developing advanced technologies to make our business ever safer and more efficient.\"}, {\"url\": \"https://www.seadrill.com/wp-content/uploads/2024/01/Seadrill_Ltd_Annual_Sustainability_Report_2021_Jan.pdf\", \"content\": \"The report presents the environmental, social, and governance (ESG) performance of Seadrill Limited, together with its consol-idated subsidiaries, along with its management approach to material sustainability topics, for the 2021 calendar year. Determination of sustainability impacts and material ESG\"}]\n",
      "==================================\u001b[1m Ai Message \u001b[0m==================================\n",
      "Name: Researcher\n",
      "Tool Calls:\n",
      "  tavily_search_results_json (call_wOZCvN5YPlO8u4HyMe2lRuvj)\n",
      " Call ID: call_wOZCvN5YPlO8u4HyMe2lRuvj\n",
      "  Args:\n",
      "    query: Seadrill Limited stock exchange market listing\n",
      "  tavily_search_results_json (call_vgg20t9o9r6nNruSL1Z5QAPt)\n",
      " Call ID: call_vgg20t9o9r6nNruSL1Z5QAPt\n",
      "  Args:\n",
      "    query: Seadrill Limited stock code\n",
      "=================================\u001b[1m Tool Message \u001b[0m=================================\n",
      "Name: tavily_search_results_json\n",
      "\n",
      "[{\"url\": \"https://finance.yahoo.com/quote/SDRL/\", \"content\": \"MRO Marathon Oil Corporation. 28.53. +2.76%. Find the latest Seadrill Limited (SDRL) stock quote, history, news and other vital information to help you with your stock trading and investing.\"}, {\"url\": \"https://www.google.com/finance/quote/SDRL:NYSE\", \"content\": \"Get the latest Seadrill Ltd (Hamilton) (SDRL) real-time quote, historical performance, charts, and other financial information to help you make more informed trading and investment decisions.\"}, {\"url\": \"https://ir.seadrill.com/stock-info/default.aspx\", \"content\": \"Stock Information. Stock quote information. Pricing delayed by 20 minutes. Last Updated 06/17/2024 4:00 PM. Price. $49.08.\"}]\n",
      "==================================\u001b[1m Ai Message \u001b[0m==================================\n",
      "Name: Researcher\n",
      "\n",
      "Here is the detailed information from the Seadrill Limited Sustainability Report 2022 and other sources:\n",
      "\n",
      "1. **Exchange Market Listed On**: Seadrill Limited is listed on the New York Stock Exchange (NYSE).\n",
      "2. **Report Name**: Seadrill Limited - Sustainability Report 2022\n",
      "3. **Reporting Period**: The calendar year 2022\n",
      "4. **Report Release Date**: January 2024 (as inferred from the URL and context)\n",
      "5. **Listed Stock Name**: Seadrill Limited\n",
      "6. **Listed Stock Code**: SDRL\n",
      "7. **Company Full Name**: Seadrill Limited\n",
      "8. **Industry Classification**: Offshore Drilling Services\n",
      "\n",
      "FINAL ANSWER\n"
     ]
    }
   ],
   "source": [
    "url = \"https://www.seadrill.com/wp-content/uploads/2024/01/Seadrill_-Sustainability-2022.pdf\"\n",
    "\n",
    "config = {\"configurable\": {\"thread_id\": \"1\"}}\n",
    "events = graph.stream(\n",
    "    {\n",
    "        \"messages\": [\n",
    "            HumanMessage(\n",
    "                content=\n",
    "                f\"The pdf ({url}) is an ESG report from a company.\"\n",
    "                \" MUST RETURN (in PDF's language):\"\n",
    "                \" 1. The exchange market the company is listed on.\"\n",
    "                \" 2. The report name.\"\n",
    "                \" 3. The reporting period.\"\n",
    "                \" 4. The report release date.\"\n",
    "                \" 5. The company listed stock name.\"\n",
    "                \" 6. The company listed stock code.\"\n",
    "                \" 7. The company full name.\"\n",
    "                \" 8. The Industry classification of the company's main business operations.\"\n",
    "            )\n",
    "        ],\n",
    "    },\n",
    "    # Maximum number of steps to take in the graph\n",
    "    config={\"recursion_limit\": 50},\n",
    "    stream_mode=\"values\"\n",
    ")\n",
    "for event in events:\n",
    "    # print(event)\n",
    "    if \"messages\" in event:\n",
    "        event[\"messages\"][-1].pretty_print()"
   ]
  }
 ],
 "metadata": {
  "kernelspec": {
   "display_name": "Python 3 (ipykernel)",
   "language": "python",
   "name": "python3"
  },
  "language_info": {
   "codemirror_mode": {
    "name": "ipython",
    "version": 3
   },
   "file_extension": ".py",
   "mimetype": "text/x-python",
   "name": "python",
   "nbconvert_exporter": "python",
   "pygments_lexer": "ipython3",
   "version": "3.9.-1"
  }
 },
 "nbformat": 4,
 "nbformat_minor": 5
}
