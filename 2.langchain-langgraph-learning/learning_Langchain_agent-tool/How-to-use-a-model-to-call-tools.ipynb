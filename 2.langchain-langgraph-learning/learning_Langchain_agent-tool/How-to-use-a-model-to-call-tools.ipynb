{
 "cells": [
  {
   "cell_type": "markdown",
   "metadata": {},
   "source": [
    "https://python.langchain.com/v0.2/docs/how_to/tool_calling/"
   ]
  },
  {
   "cell_type": "code",
   "execution_count": 1,
   "metadata": {},
   "outputs": [],
   "source": [
    "from langchain_core.tools import tool\n",
    "\n",
    "\n",
    "@tool\n",
    "def add(a: int, b: int) -> int:\n",
    "    \"\"\"Adds a and b.\"\"\"\n",
    "    return a + b\n",
    "\n",
    "\n",
    "@tool\n",
    "def multiply(a: int, b: int) -> int:\n",
    "    \"\"\"Multiplies a and b.\"\"\"\n",
    "    return a * b\n",
    "\n",
    "\n",
    "tools = [add, multiply]"
   ]
  },
  {
   "cell_type": "code",
   "execution_count": 2,
   "metadata": {},
   "outputs": [],
   "source": [
    "from langchain_core.pydantic_v1 import BaseModel, Field\n",
    "\n",
    "\n",
    "# Note that the docstrings here are crucial, as they will be passed along\n",
    "# to the model along with the class name.\n",
    "# class Add(BaseModel):\n",
    "#     \"\"\"Add two integers together.\"\"\"\n",
    "\n",
    "#     a: int = Field(..., description=\"First integer\")\n",
    "#     b: int = Field(..., description=\"Second integer\")\n",
    "\n",
    "\n",
    "# class Multiply(BaseModel):\n",
    "#     \"\"\"Multiply two integers together.\"\"\"\n",
    "\n",
    "#     a: int = Field(..., description=\"First integer\")\n",
    "#     b: int = Field(..., description=\"Second integer\")\n",
    "\n",
    "\n",
    "# tools = [Add, Multiply]"
   ]
  },
  {
   "cell_type": "markdown",
   "metadata": {},
   "source": [
    "# We can bind tool to chat models as follows:"
   ]
  },
  {
   "cell_type": "code",
   "execution_count": 3,
   "metadata": {},
   "outputs": [],
   "source": [
    "import os\n",
    "\n",
    "os.environ['OPENAI_API_KEY'] = '<OPENAI_API_KEY>' \n",
    "\n",
    "from langchain_openai import ChatOpenAI\n",
    "\n",
    "llm = ChatOpenAI(model=\"gpt-3.5-turbo-0125\")"
   ]
  },
  {
   "cell_type": "code",
   "execution_count": 4,
   "metadata": {},
   "outputs": [],
   "source": [
    "llm_with_tools = llm.bind_tools(tools)"
   ]
  },
  {
   "cell_type": "code",
   "execution_count": 6,
   "metadata": {},
   "outputs": [
    {
     "data": {
      "text/plain": [
       "AIMessage(content='', additional_kwargs={'tool_calls': [{'id': 'call_P0Av31snjmiISHWOzcvR5JX6', 'function': {'arguments': '{\"a\":2,\"b\":4}', 'name': 'multiply'}, 'type': 'function'}]}, response_metadata={'token_usage': {'completion_tokens': 9, 'prompt_tokens': 85, 'total_tokens': 94}, 'model_name': 'gpt-3.5-turbo-0125', 'system_fingerprint': None, 'finish_reason': 'stop', 'logprobs': None}, id='run-10fb11cb-2d3b-4a50-bfd1-52c26ad8e6a5-0', tool_calls=[{'name': 'multiply', 'args': {'a': 2, 'b': 4}, 'id': 'call_P0Av31snjmiISHWOzcvR5JX6'}], usage_metadata={'input_tokens': 85, 'output_tokens': 9, 'total_tokens': 94})"
      ]
     },
     "execution_count": 6,
     "metadata": {},
     "output_type": "execute_result"
    }
   ],
   "source": [
    "llm_forced_to_multiply = llm.bind_tools(tools, tool_choice=\"multiply\")\n",
    "llm_forced_to_multiply.invoke(\"what is 2 + 4\")"
   ]
  },
  {
   "cell_type": "code",
   "execution_count": null,
   "metadata": {},
   "outputs": [
    {
     "data": {
      "text/plain": [
       "[{'name': 'Multiply',\n",
       "  'args': {'a': 3, 'b': 12},\n",
       "  'id': 'call_eUW6keVdKf4olqSSIw6wVWbJ'},\n",
       " {'name': 'Add',\n",
       "  'args': {'a': 11, 'b': 49},\n",
       "  'id': 'call_ErGP82rAJxzFxHR0EQx2N26a'},\n",
       " {'name': 'Add',\n",
       "  'args': {'a': 5, 'b': 6},\n",
       "  'id': 'call_xflVZ4G7zBD3JGAKMqHrzB0g'},\n",
       " {'name': 'Multiply',\n",
       "  'args': {'a': 8, 'b': 8},\n",
       "  'id': 'call_ojHYJwuhIm9gMoIsxL6DMPmt'},\n",
       " {'name': 'Add',\n",
       "  'args': {'a': {'a': 8, 'b': 8}, 'b': 2},\n",
       "  'id': 'call_e1WrEqYyljGpQDCc1nyzpfI5'}]"
      ]
     },
     "execution_count": 15,
     "metadata": {},
     "output_type": "execute_result"
    }
   ],
   "source": [
    "query = \"What is 3 * 12? Also, what is 11 + 49? and what is 5+6? what is 8*8? what is 8*8+2?\"\n",
    "\n",
    "llm_with_tools.invoke(query).tool_calls"
   ]
  },
  {
   "cell_type": "code",
   "execution_count": null,
   "metadata": {},
   "outputs": [
    {
     "data": {
      "text/plain": [
       "[Multiply(a=3, b=12),\n",
       " Add(a=11, b=49),\n",
       " Add(a=5, b=6),\n",
       " Multiply(a=8, b=8),\n",
       " Add(a=8, b=8)]"
      ]
     },
     "execution_count": 16,
     "metadata": {},
     "output_type": "execute_result"
    }
   ],
   "source": [
    "from langchain_core.output_parsers.openai_tools import PydanticToolsParser\n",
    "\n",
    "chain = llm_with_tools | PydanticToolsParser(tools=[Multiply, Add])\n",
    "chain.invoke(query)"
   ]
  },
  {
   "cell_type": "code",
   "execution_count": 8,
   "metadata": {},
   "outputs": [
    {
     "name": "stdout",
     "output_type": "stream",
     "text": [
      "[]\n",
      "[{'name': 'multiply', 'args': '', 'id': 'call_9AgCjbSfvWlEsf8RKRwGbG3l', 'index': 0}]\n",
      "[{'name': None, 'args': '{\"a\"', 'id': None, 'index': 0}]\n",
      "[{'name': None, 'args': ': 3, ', 'id': None, 'index': 0}]\n",
      "[{'name': None, 'args': '\"b\": 1', 'id': None, 'index': 0}]\n",
      "[{'name': None, 'args': '2}', 'id': None, 'index': 0}]\n",
      "[{'name': 'add', 'args': '', 'id': 'call_GSRcEvlL04rP9iHvrNkeuv7O', 'index': 1}]\n",
      "[{'name': None, 'args': '{\"a\"', 'id': None, 'index': 1}]\n",
      "[{'name': None, 'args': ': 11,', 'id': None, 'index': 1}]\n",
      "[{'name': None, 'args': ' \"b\": ', 'id': None, 'index': 1}]\n",
      "[{'name': None, 'args': '49}', 'id': None, 'index': 1}]\n",
      "[{'name': 'add', 'args': '', 'id': 'call_YpQAhBCQMdgBGgj6zagJffEw', 'index': 2}]\n",
      "[{'name': None, 'args': '{\"a\"', 'id': None, 'index': 2}]\n",
      "[{'name': None, 'args': ': 5, ', 'id': None, 'index': 2}]\n",
      "[{'name': None, 'args': '\"b\": 6', 'id': None, 'index': 2}]\n",
      "[{'name': None, 'args': '}', 'id': None, 'index': 2}]\n",
      "[]\n"
     ]
    }
   ],
   "source": [
    "query = \"What is 3 * 12? Also, what is 11 + 49? and what is 5+6?\"\n",
    "async for chunk in llm_with_tools.astream(query):\n",
    "    print(chunk.tool_call_chunks)"
   ]
  },
  {
   "cell_type": "code",
   "execution_count": null,
   "metadata": {},
   "outputs": [
    {
     "name": "stdout",
     "output_type": "stream",
     "text": [
      "[]\n",
      "[]\n",
      "[{'name': 'Multiply', 'args': {}, 'id': 'call_eXISghKP6r3SwALspW1CIDWi'}]\n",
      "[{'name': 'Multiply', 'args': {'a': 3}, 'id': 'call_eXISghKP6r3SwALspW1CIDWi'}]\n",
      "[{'name': 'Multiply', 'args': {'a': 3, 'b': 1}, 'id': 'call_eXISghKP6r3SwALspW1CIDWi'}]\n",
      "[{'name': 'Multiply', 'args': {'a': 3, 'b': 12}, 'id': 'call_eXISghKP6r3SwALspW1CIDWi'}]\n",
      "[{'name': 'Multiply', 'args': {'a': 3, 'b': 12}, 'id': 'call_eXISghKP6r3SwALspW1CIDWi'}]\n",
      "[{'name': 'Multiply', 'args': {'a': 3, 'b': 12}, 'id': 'call_eXISghKP6r3SwALspW1CIDWi'}, {'name': 'Add', 'args': {}, 'id': 'call_qFNNW5uAxzaBAR1d9lfKgVDf'}]\n",
      "[{'name': 'Multiply', 'args': {'a': 3, 'b': 12}, 'id': 'call_eXISghKP6r3SwALspW1CIDWi'}, {'name': 'Add', 'args': {'a': 11}, 'id': 'call_qFNNW5uAxzaBAR1d9lfKgVDf'}]\n",
      "[{'name': 'Multiply', 'args': {'a': 3, 'b': 12}, 'id': 'call_eXISghKP6r3SwALspW1CIDWi'}, {'name': 'Add', 'args': {'a': 11}, 'id': 'call_qFNNW5uAxzaBAR1d9lfKgVDf'}]\n",
      "[{'name': 'Multiply', 'args': {'a': 3, 'b': 12}, 'id': 'call_eXISghKP6r3SwALspW1CIDWi'}, {'name': 'Add', 'args': {'a': 11, 'b': 49}, 'id': 'call_qFNNW5uAxzaBAR1d9lfKgVDf'}]\n",
      "[{'name': 'Multiply', 'args': {'a': 3, 'b': 12}, 'id': 'call_eXISghKP6r3SwALspW1CIDWi'}, {'name': 'Add', 'args': {'a': 11, 'b': 49}, 'id': 'call_qFNNW5uAxzaBAR1d9lfKgVDf'}]\n",
      "[{'name': 'Multiply', 'args': {'a': 3, 'b': 12}, 'id': 'call_eXISghKP6r3SwALspW1CIDWi'}, {'name': 'Add', 'args': {'a': 11, 'b': 49}, 'id': 'call_qFNNW5uAxzaBAR1d9lfKgVDf'}, {'name': 'Add', 'args': {}, 'id': 'call_wqAIPyG19xXPDasVzDBJKkH5'}]\n",
      "[{'name': 'Multiply', 'args': {'a': 3, 'b': 12}, 'id': 'call_eXISghKP6r3SwALspW1CIDWi'}, {'name': 'Add', 'args': {'a': 11, 'b': 49}, 'id': 'call_qFNNW5uAxzaBAR1d9lfKgVDf'}, {'name': 'Add', 'args': {'a': 5}, 'id': 'call_wqAIPyG19xXPDasVzDBJKkH5'}]\n",
      "[{'name': 'Multiply', 'args': {'a': 3, 'b': 12}, 'id': 'call_eXISghKP6r3SwALspW1CIDWi'}, {'name': 'Add', 'args': {'a': 11, 'b': 49}, 'id': 'call_qFNNW5uAxzaBAR1d9lfKgVDf'}, {'name': 'Add', 'args': {'a': 5, 'b': 6}, 'id': 'call_wqAIPyG19xXPDasVzDBJKkH5'}]\n",
      "[{'name': 'Multiply', 'args': {'a': 3, 'b': 12}, 'id': 'call_eXISghKP6r3SwALspW1CIDWi'}, {'name': 'Add', 'args': {'a': 11, 'b': 49}, 'id': 'call_qFNNW5uAxzaBAR1d9lfKgVDf'}, {'name': 'Add', 'args': {'a': 5, 'b': 6}, 'id': 'call_wqAIPyG19xXPDasVzDBJKkH5'}]\n",
      "[{'name': 'Multiply', 'args': {'a': 3, 'b': 12}, 'id': 'call_eXISghKP6r3SwALspW1CIDWi'}, {'name': 'Add', 'args': {'a': 11, 'b': 49}, 'id': 'call_qFNNW5uAxzaBAR1d9lfKgVDf'}, {'name': 'Add', 'args': {'a': 5, 'b': 6}, 'id': 'call_wqAIPyG19xXPDasVzDBJKkH5'}]\n"
     ]
    }
   ],
   "source": [
    "first = True\n",
    "async for chunk in llm_with_tools.astream(query):\n",
    "    if first:\n",
    "        gathered = chunk\n",
    "        first = False\n",
    "    else:\n",
    "        gathered = gathered + chunk\n",
    "\n",
    "    print(gathered.tool_calls)"
   ]
  },
  {
   "cell_type": "code",
   "execution_count": 9,
   "metadata": {},
   "outputs": [
    {
     "name": "stdout",
     "output_type": "stream",
     "text": [
      "{'name': 'multiply', 'args': {'a': 3, 'b': 12}, 'id': 'call_E8372u4M0rACLWyP6C3dQNeM'}\n",
      "{'name': 'add', 'args': {'a': 11, 'b': 49}, 'id': 'call_g6uLqKc55StJ4orpQDizOroA'}\n",
      "{'name': 'add', 'args': {'a': 5, 'b': 6}, 'id': 'call_li3pvgfi0BLurQLmiPfdHqFo'}\n"
     ]
    },
    {
     "data": {
      "text/plain": [
       "[HumanMessage(content='What is 3 * 12? Also, what is 11 + 49? and what is 5+6?'),\n",
       " AIMessage(content='', additional_kwargs={'tool_calls': [{'id': 'call_E8372u4M0rACLWyP6C3dQNeM', 'function': {'arguments': '{\"a\": 3, \"b\": 12}', 'name': 'multiply'}, 'type': 'function'}, {'id': 'call_g6uLqKc55StJ4orpQDizOroA', 'function': {'arguments': '{\"a\": 11, \"b\": 49}', 'name': 'add'}, 'type': 'function'}, {'id': 'call_li3pvgfi0BLurQLmiPfdHqFo', 'function': {'arguments': '{\"a\": 5, \"b\": 6}', 'name': 'add'}, 'type': 'function'}]}, response_metadata={'token_usage': {'completion_tokens': 66, 'prompt_tokens': 96, 'total_tokens': 162}, 'model_name': 'gpt-3.5-turbo-0125', 'system_fingerprint': None, 'finish_reason': 'tool_calls', 'logprobs': None}, id='run-8e77634e-db8a-40f1-b378-c02b04b20943-0', tool_calls=[{'name': 'multiply', 'args': {'a': 3, 'b': 12}, 'id': 'call_E8372u4M0rACLWyP6C3dQNeM'}, {'name': 'add', 'args': {'a': 11, 'b': 49}, 'id': 'call_g6uLqKc55StJ4orpQDizOroA'}, {'name': 'add', 'args': {'a': 5, 'b': 6}, 'id': 'call_li3pvgfi0BLurQLmiPfdHqFo'}], usage_metadata={'input_tokens': 96, 'output_tokens': 66, 'total_tokens': 162}),\n",
       " ToolMessage(content='36', tool_call_id='call_E8372u4M0rACLWyP6C3dQNeM'),\n",
       " ToolMessage(content='60', tool_call_id='call_g6uLqKc55StJ4orpQDizOroA'),\n",
       " ToolMessage(content='11', tool_call_id='call_li3pvgfi0BLurQLmiPfdHqFo')]"
      ]
     },
     "execution_count": 9,
     "metadata": {},
     "output_type": "execute_result"
    }
   ],
   "source": [
    "from langchain_core.messages import HumanMessage, ToolMessage\n",
    "\n",
    "messages = [HumanMessage(query)]\n",
    "ai_msg = llm_with_tools.invoke(messages)\n",
    "messages.append(ai_msg)\n",
    "for tool_call in ai_msg.tool_calls:\n",
    "    print(tool_call)\n",
    "    selected_tool = {\"add\": add, \"multiply\": multiply}[tool_call[\"name\"].lower()]\n",
    "    tool_output = selected_tool.invoke(tool_call[\"args\"])\n",
    "    messages.append(ToolMessage(tool_output, tool_call_id=tool_call[\"id\"]))\n",
    "messages"
   ]
  },
  {
   "cell_type": "code",
   "execution_count": null,
   "metadata": {},
   "outputs": [
    {
     "data": {
      "text/plain": [
       "[{'name': 'Multiply',\n",
       "  'args': {'a': 119, 'b': 8},\n",
       "  'id': 'call_rpg4NFV7HvTjrDsguTVkzI2g'}]"
      ]
     },
     "execution_count": 25,
     "metadata": {},
     "output_type": "execute_result"
    }
   ],
   "source": [
    "from langchain_core.messages import AIMessage\n",
    "from langchain_core.prompts import ChatPromptTemplate\n",
    "from langchain_core.runnables import RunnablePassthrough\n",
    "\n",
    "examples = [\n",
    "    HumanMessage(\n",
    "        \"What's the product of 317253 and 128472 plus four\", name=\"example_user\"\n",
    "    ),\n",
    "    AIMessage(\n",
    "        \"\",\n",
    "        name=\"example_assistant\",\n",
    "        tool_calls=[\n",
    "            {\"name\": \"Multiply\", \"args\": {\"x\": 317253, \"y\": 128472}, \"id\": \"1\"}\n",
    "        ],\n",
    "    ),\n",
    "    ToolMessage(\"16505054784\", tool_call_id=\"1\"),\n",
    "    AIMessage(\n",
    "        \"\",\n",
    "        name=\"example_assistant\",\n",
    "        tool_calls=[{\"name\": \"Add\", \"args\": {\"x\": 16505054784, \"y\": 4}, \"id\": \"2\"}],\n",
    "    ),\n",
    "    ToolMessage(\"16505054788\", tool_call_id=\"2\"),\n",
    "    AIMessage(\n",
    "        \"The product of 317253 and 128472 plus four is 16505054788\",\n",
    "        name=\"example_assistant\",\n",
    "    ),\n",
    "]\n",
    "\n",
    "system = \"\"\"You are bad at math but are an expert at using a calculator. \n",
    "\n",
    "Use past tool usage as an example of how to correctly use the tools.\"\"\"\n",
    "few_shot_prompt = ChatPromptTemplate.from_messages(\n",
    "    [\n",
    "        (\"system\", system),\n",
    "        *examples,\n",
    "        (\"human\", \"{query}\"),\n",
    "    ]\n",
    ")\n",
    "\n",
    "chain = {\"query\": RunnablePassthrough()} | few_shot_prompt | llm_with_tools\n",
    "chain.invoke(\"Whats 119 times 8 minus 20\").tool_calls"
   ]
  },
  {
   "cell_type": "code",
   "execution_count": null,
   "metadata": {},
   "outputs": [
    {
     "data": {
      "text/plain": [
       "[{'name': 'multiply',\n",
       "  'args': {'a': 119, 'b': 8},\n",
       "  'id': 'call_cqvHR8YBHu4HEaAeX3Gd1bx1'}]"
      ]
     },
     "execution_count": 27,
     "metadata": {},
     "output_type": "execute_result"
    }
   ],
   "source": [
    "from langchain_openai import ChatOpenAI\n",
    "\n",
    "model = ChatOpenAI()\n",
    "\n",
    "model_with_tools = model.bind(\n",
    "    tools=[\n",
    "        {\n",
    "            \"type\": \"function\",\n",
    "            \"function\": {\n",
    "                \"name\": \"multiply\",\n",
    "                \"description\": \"Multiply two integers together.\",\n",
    "                \"parameters\": {\n",
    "                    \"type\": \"object\",\n",
    "                    \"properties\": {\n",
    "                        \"a\": {\"type\": \"number\", \"description\": \"First integer\"},\n",
    "                        \"b\": {\"type\": \"number\", \"description\": \"Second integer\"},\n",
    "                    },\n",
    "                    \"required\": [\"a\", \"b\"],\n",
    "                },\n",
    "            },\n",
    "        }\n",
    "    ]\n",
    ")\n",
    "\n",
    "model_with_tools.invoke(\"Whats 119 times 8?\").tool_calls"
   ]
  }
 ],
 "metadata": {
  "kernelspec": {
   "display_name": "thu_tiangong",
   "language": "python",
   "name": "python3"
  },
  "language_info": {
   "codemirror_mode": {
    "name": "ipython",
    "version": 3
   },
   "file_extension": ".py",
   "mimetype": "text/x-python",
   "name": "python",
   "nbconvert_exporter": "python",
   "pygments_lexer": "ipython3",
   "version": "3.8.19"
  }
 },
 "nbformat": 4,
 "nbformat_minor": 2
}
