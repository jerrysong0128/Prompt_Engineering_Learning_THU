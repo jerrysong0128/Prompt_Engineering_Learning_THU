{
 "cells": [
  {
   "cell_type": "code",
   "execution_count": 28,
   "metadata": {},
   "outputs": [],
   "source": [
    "import os\n",
    "from langchain_community.chat_models import ChatOpenAI\n",
    "from langchain_community.utilities.tavily_search import TavilySearchAPIWrapper\n",
    "from langchain_community.tools.tavily_search import TavilySearchResults\n",
    "from langchain_community.tools.convert_to_openai import format_tool_to_openai_function"
   ]
  },
  {
   "cell_type": "code",
   "execution_count": 36,
   "metadata": {},
   "outputs": [],
   "source": [
    "os.environ['TAVILY_API_KEY'] = '<TAVILY_API_KEY>'\n",
    "os.environ['OPENAI_API_KEY'] = '<OPENAI_API_KEY>'  # Replace with your actual API key"
   ]
  },
  {
   "cell_type": "code",
   "execution_count": 19,
   "metadata": {},
   "outputs": [],
   "source": [
    "# Create the tool\n",
    "search = TavilySearchAPIWrapper()\n",
    "description = \"\"\"\"A search engine optimized for comprehensive, accurate, \\\n",
    "and trusted results. Useful for when you need to answer questions \\\n",
    "about current events or about recent information. \\\n",
    "Input should be a search query. \\\n",
    "If the user is asking about something that you don't know about, \\\n",
    "you should probably use this tool to see if that can provide any information.\"\"\"\n",
    "tavily_tool = TavilySearchResults(api_wrapper=search, description=description)\n",
    "\n",
    "tools = [tavily_tool]"
   ]
  },
  {
   "cell_type": "code",
   "execution_count": 20,
   "metadata": {},
   "outputs": [],
   "source": [
    "llm = ChatOpenAI(temperature=0)"
   ]
  },
  {
   "cell_type": "code",
   "execution_count": 23,
   "metadata": {},
   "outputs": [
    {
     "name": "stderr",
     "output_type": "stream",
     "text": [
      "/Users/jerrysong/anaconda3/envs/thu_tiangong/lib/python3.8/site-packages/langchain_core/_api/deprecation.py:119: LangChainDeprecationWarning: The function `format_tool_to_openai_function` was deprecated in LangChain 0.1.16 and will be removed in 0.3.0. Use langchain_core.utils.function_calling.convert_to_openai_function() instead.\n",
      "  warn_deprecated(\n"
     ]
    }
   ],
   "source": [
    "llm_with_tools = llm.bind(functions=[format_tool_to_openai_function(t) for t in tools])"
   ]
  },
  {
   "cell_type": "code",
   "execution_count": 26,
   "metadata": {},
   "outputs": [],
   "source": [
    "tool = TavilySearchResults()"
   ]
  },
  {
   "cell_type": "code",
   "execution_count": 45,
   "metadata": {},
   "outputs": [
    {
     "data": {
      "text/plain": [
       "''"
      ]
     },
     "execution_count": 45,
     "metadata": {},
     "output_type": "execute_result"
    }
   ],
   "source": [
    "llm_with_tools.invoke(\"who won the womens world cup in 2023?\")\n",
    "from langchain_core.runnables import RunnablePassthrough\n",
    "from langchain_core.output_parsers import StrOutputParser\n",
    "chain = ({\"query\": RunnablePassthrough()} | llm_with_tools | StrOutputParser() )\n",
    "chain = (llm_with_tools | StrOutputParser() )\n",
    "chain.invoke(\"who won the womens world cup in 2023?\")"
   ]
  },
  {
   "cell_type": "code",
   "execution_count": 38,
   "metadata": {},
   "outputs": [
    {
     "name": "stdout",
     "output_type": "stream",
     "text": [
      "'One two three four five.'\n",
      "'One two \n"
     ]
    }
   ],
   "source": [
    "from langchain_core.output_parsers import StrOutputParser\n",
    "\n",
    "llm = ChatOpenAI(temperature=0)\n",
    "\n",
    "# Without bind.\n",
    "chain = (\n",
    "    llm\n",
    "    | StrOutputParser()\n",
    ")\n",
    "\n",
    "print(chain.invoke(\"Repeat quoted words exactly: 'One two three four five.'\"))\n",
    "# Output is 'One two three four five.'\n",
    "\n",
    "# With bind.\n",
    "chain = (\n",
    "    llm.bind(stop=[\"three\"])\n",
    "    | StrOutputParser()\n",
    "    )\n",
    "\n",
    "print(chain.invoke(\"Repeat quoted words exactly: 'One two three four five.'\"))\n",
    "# Output is 'One two'"
   ]
  }
 ],
 "metadata": {
  "kernelspec": {
   "display_name": "thu_tiangong",
   "language": "python",
   "name": "python3"
  },
  "language_info": {
   "codemirror_mode": {
    "name": "ipython",
    "version": 3
   },
   "file_extension": ".py",
   "mimetype": "text/x-python",
   "name": "python",
   "nbconvert_exporter": "python",
   "pygments_lexer": "ipython3",
   "version": "3.8.19"
  }
 },
 "nbformat": 4,
 "nbformat_minor": 2
}
