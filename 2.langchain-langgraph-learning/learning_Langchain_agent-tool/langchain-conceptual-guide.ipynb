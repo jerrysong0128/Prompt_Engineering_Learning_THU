{
 "cells": [
  {
   "cell_type": "markdown",
   "metadata": {},
   "source": [
    "https://python.langchain.com/v0.2/docs/how_to/document_loader_pdf/"
   ]
  },
  {
   "cell_type": "code",
   "execution_count": 2,
   "metadata": {},
   "outputs": [],
   "source": [
    "import os\n",
    "from langchain_community.chat_models import ChatOpenAI\n",
    "os.environ['OPENAI_API_KEY'] = '<OPENAI_API_KEY>'  # Replace with your actual API key\n"
   ]
  },
  {
   "cell_type": "markdown",
   "metadata": {},
   "source": [
    "# Streaming"
   ]
  },
  {
   "cell_type": "code",
   "execution_count": 3,
   "metadata": {},
   "outputs": [
    {
     "name": "stderr",
     "output_type": "stream",
     "text": [
      "/Users/jerrysong/anaconda3/envs/thu_tiangong/lib/python3.8/site-packages/langchain_core/_api/deprecation.py:139: LangChainDeprecationWarning: The class `ChatOpenAI` was deprecated in LangChain 0.0.10 and will be removed in 0.3.0. An updated version of the class exists in the langchain-openai package and should be used instead. To use it run `pip install -U langchain-openai` and import as `from langchain_openai import ChatOpenAI`.\n",
      "  warn_deprecated(\n"
     ]
    },
    {
     "name": "stdout",
     "output_type": "stream",
     "text": [
      "|The| color| of| the| sky| can| vary| depending| on| the| time| of| day| and| weather| conditions|.| During| the| day|,| the| sky| is| typically| blue|,| but| it| can| also| appear| gray|,| pink|,| orange|,| or| purple| during| sunrise| or| sunset|.| At| night|,| the| sky| appears| black| with| stars| and| sometimes| the| moon| visible|.||"
     ]
    }
   ],
   "source": [
    "model = ChatOpenAI(temperature=0)\n",
    "\n",
    "for chunk in model.stream(\"what color is the sky?\"):\n",
    "    print(chunk.content, end=\"|\", flush=True)"
   ]
  },
  {
   "cell_type": "code",
   "execution_count": 4,
   "metadata": {},
   "outputs": [
    {
     "name": "stderr",
     "output_type": "stream",
     "text": [
      "/Users/jerrysong/anaconda3/envs/thu_tiangong/lib/python3.8/site-packages/langchain_core/_api/beta_decorator.py:87: LangChainBetaWarning: This API is in beta and may change in the future.\n",
      "  warn_beta(\n"
     ]
    },
    {
     "name": "stdout",
     "output_type": "stream",
     "text": [
      "{'event': 'on_chat_model_stream', 'data': {'chunk': AIMessageChunk(content='', id='run-8d857338-b024-49d6-9199-b090c557c6e0')}, 'run_id': '8d857338-b024-49d6-9199-b090c557c6e0', 'name': 'ChatOpenAI', 'tags': ['seq:step:2'], 'metadata': {'ls_model_type': 'chat'}, 'parent_ids': ['0ed8c2c2-2e97-41f4-8390-f2d954eb1311']}|{'event': 'on_chat_model_stream', 'data': {'chunk': AIMessageChunk(content='Why', id='run-8d857338-b024-49d6-9199-b090c557c6e0')}, 'run_id': '8d857338-b024-49d6-9199-b090c557c6e0', 'name': 'ChatOpenAI', 'tags': ['seq:step:2'], 'metadata': {'ls_model_type': 'chat'}, 'parent_ids': ['0ed8c2c2-2e97-41f4-8390-f2d954eb1311']}|{'event': 'on_chat_model_stream', 'data': {'chunk': AIMessageChunk(content=' did', id='run-8d857338-b024-49d6-9199-b090c557c6e0')}, 'run_id': '8d857338-b024-49d6-9199-b090c557c6e0', 'name': 'ChatOpenAI', 'tags': ['seq:step:2'], 'metadata': {'ls_model_type': 'chat'}, 'parent_ids': ['0ed8c2c2-2e97-41f4-8390-f2d954eb1311']}|{'event': 'on_chat_model_stream', 'data': {'chunk': AIMessageChunk(content=' the', id='run-8d857338-b024-49d6-9199-b090c557c6e0')}, 'run_id': '8d857338-b024-49d6-9199-b090c557c6e0', 'name': 'ChatOpenAI', 'tags': ['seq:step:2'], 'metadata': {'ls_model_type': 'chat'}, 'parent_ids': ['0ed8c2c2-2e97-41f4-8390-f2d954eb1311']}|{'event': 'on_chat_model_stream', 'data': {'chunk': AIMessageChunk(content=' par', id='run-8d857338-b024-49d6-9199-b090c557c6e0')}, 'run_id': '8d857338-b024-49d6-9199-b090c557c6e0', 'name': 'ChatOpenAI', 'tags': ['seq:step:2'], 'metadata': {'ls_model_type': 'chat'}, 'parent_ids': ['0ed8c2c2-2e97-41f4-8390-f2d954eb1311']}|{'event': 'on_chat_model_stream', 'data': {'chunk': AIMessageChunk(content='rot', id='run-8d857338-b024-49d6-9199-b090c557c6e0')}, 'run_id': '8d857338-b024-49d6-9199-b090c557c6e0', 'name': 'ChatOpenAI', 'tags': ['seq:step:2'], 'metadata': {'ls_model_type': 'chat'}, 'parent_ids': ['0ed8c2c2-2e97-41f4-8390-f2d954eb1311']}|{'event': 'on_chat_model_stream', 'data': {'chunk': AIMessageChunk(content=' wear', id='run-8d857338-b024-49d6-9199-b090c557c6e0')}, 'run_id': '8d857338-b024-49d6-9199-b090c557c6e0', 'name': 'ChatOpenAI', 'tags': ['seq:step:2'], 'metadata': {'ls_model_type': 'chat'}, 'parent_ids': ['0ed8c2c2-2e97-41f4-8390-f2d954eb1311']}|{'event': 'on_chat_model_stream', 'data': {'chunk': AIMessageChunk(content=' a', id='run-8d857338-b024-49d6-9199-b090c557c6e0')}, 'run_id': '8d857338-b024-49d6-9199-b090c557c6e0', 'name': 'ChatOpenAI', 'tags': ['seq:step:2'], 'metadata': {'ls_model_type': 'chat'}, 'parent_ids': ['0ed8c2c2-2e97-41f4-8390-f2d954eb1311']}|{'event': 'on_chat_model_stream', 'data': {'chunk': AIMessageChunk(content=' rain', id='run-8d857338-b024-49d6-9199-b090c557c6e0')}, 'run_id': '8d857338-b024-49d6-9199-b090c557c6e0', 'name': 'ChatOpenAI', 'tags': ['seq:step:2'], 'metadata': {'ls_model_type': 'chat'}, 'parent_ids': ['0ed8c2c2-2e97-41f4-8390-f2d954eb1311']}|{'event': 'on_chat_model_stream', 'data': {'chunk': AIMessageChunk(content='coat', id='run-8d857338-b024-49d6-9199-b090c557c6e0')}, 'run_id': '8d857338-b024-49d6-9199-b090c557c6e0', 'name': 'ChatOpenAI', 'tags': ['seq:step:2'], 'metadata': {'ls_model_type': 'chat'}, 'parent_ids': ['0ed8c2c2-2e97-41f4-8390-f2d954eb1311']}|{'event': 'on_chat_model_stream', 'data': {'chunk': AIMessageChunk(content='?\\n\\n', id='run-8d857338-b024-49d6-9199-b090c557c6e0')}, 'run_id': '8d857338-b024-49d6-9199-b090c557c6e0', 'name': 'ChatOpenAI', 'tags': ['seq:step:2'], 'metadata': {'ls_model_type': 'chat'}, 'parent_ids': ['0ed8c2c2-2e97-41f4-8390-f2d954eb1311']}|{'event': 'on_chat_model_stream', 'data': {'chunk': AIMessageChunk(content='Because', id='run-8d857338-b024-49d6-9199-b090c557c6e0')}, 'run_id': '8d857338-b024-49d6-9199-b090c557c6e0', 'name': 'ChatOpenAI', 'tags': ['seq:step:2'], 'metadata': {'ls_model_type': 'chat'}, 'parent_ids': ['0ed8c2c2-2e97-41f4-8390-f2d954eb1311']}|{'event': 'on_chat_model_stream', 'data': {'chunk': AIMessageChunk(content=' he', id='run-8d857338-b024-49d6-9199-b090c557c6e0')}, 'run_id': '8d857338-b024-49d6-9199-b090c557c6e0', 'name': 'ChatOpenAI', 'tags': ['seq:step:2'], 'metadata': {'ls_model_type': 'chat'}, 'parent_ids': ['0ed8c2c2-2e97-41f4-8390-f2d954eb1311']}|{'event': 'on_chat_model_stream', 'data': {'chunk': AIMessageChunk(content=' wanted', id='run-8d857338-b024-49d6-9199-b090c557c6e0')}, 'run_id': '8d857338-b024-49d6-9199-b090c557c6e0', 'name': 'ChatOpenAI', 'tags': ['seq:step:2'], 'metadata': {'ls_model_type': 'chat'}, 'parent_ids': ['0ed8c2c2-2e97-41f4-8390-f2d954eb1311']}|{'event': 'on_chat_model_stream', 'data': {'chunk': AIMessageChunk(content=' to', id='run-8d857338-b024-49d6-9199-b090c557c6e0')}, 'run_id': '8d857338-b024-49d6-9199-b090c557c6e0', 'name': 'ChatOpenAI', 'tags': ['seq:step:2'], 'metadata': {'ls_model_type': 'chat'}, 'parent_ids': ['0ed8c2c2-2e97-41f4-8390-f2d954eb1311']}|{'event': 'on_chat_model_stream', 'data': {'chunk': AIMessageChunk(content=' be', id='run-8d857338-b024-49d6-9199-b090c557c6e0')}, 'run_id': '8d857338-b024-49d6-9199-b090c557c6e0', 'name': 'ChatOpenAI', 'tags': ['seq:step:2'], 'metadata': {'ls_model_type': 'chat'}, 'parent_ids': ['0ed8c2c2-2e97-41f4-8390-f2d954eb1311']}|{'event': 'on_chat_model_stream', 'data': {'chunk': AIMessageChunk(content=' poly', id='run-8d857338-b024-49d6-9199-b090c557c6e0')}, 'run_id': '8d857338-b024-49d6-9199-b090c557c6e0', 'name': 'ChatOpenAI', 'tags': ['seq:step:2'], 'metadata': {'ls_model_type': 'chat'}, 'parent_ids': ['0ed8c2c2-2e97-41f4-8390-f2d954eb1311']}|{'event': 'on_chat_model_stream', 'data': {'chunk': AIMessageChunk(content='uns', id='run-8d857338-b024-49d6-9199-b090c557c6e0')}, 'run_id': '8d857338-b024-49d6-9199-b090c557c6e0', 'name': 'ChatOpenAI', 'tags': ['seq:step:2'], 'metadata': {'ls_model_type': 'chat'}, 'parent_ids': ['0ed8c2c2-2e97-41f4-8390-f2d954eb1311']}|{'event': 'on_chat_model_stream', 'data': {'chunk': AIMessageChunk(content='aturated', id='run-8d857338-b024-49d6-9199-b090c557c6e0')}, 'run_id': '8d857338-b024-49d6-9199-b090c557c6e0', 'name': 'ChatOpenAI', 'tags': ['seq:step:2'], 'metadata': {'ls_model_type': 'chat'}, 'parent_ids': ['0ed8c2c2-2e97-41f4-8390-f2d954eb1311']}|{'event': 'on_chat_model_stream', 'data': {'chunk': AIMessageChunk(content='!', id='run-8d857338-b024-49d6-9199-b090c557c6e0')}, 'run_id': '8d857338-b024-49d6-9199-b090c557c6e0', 'name': 'ChatOpenAI', 'tags': ['seq:step:2'], 'metadata': {'ls_model_type': 'chat'}, 'parent_ids': ['0ed8c2c2-2e97-41f4-8390-f2d954eb1311']}|{'event': 'on_chat_model_stream', 'data': {'chunk': AIMessageChunk(content='', response_metadata={'finish_reason': 'stop'}, id='run-8d857338-b024-49d6-9199-b090c557c6e0')}, 'run_id': '8d857338-b024-49d6-9199-b090c557c6e0', 'name': 'ChatOpenAI', 'tags': ['seq:step:2'], 'metadata': {'ls_model_type': 'chat'}, 'parent_ids': ['0ed8c2c2-2e97-41f4-8390-f2d954eb1311']}|"
     ]
    }
   ],
   "source": [
    "from langchain_core.output_parsers import StrOutputParser\n",
    "from langchain_core.prompts import ChatPromptTemplate\n",
    "\n",
    "\n",
    "model = ChatOpenAI(temperature=0)\n",
    "\n",
    "prompt = ChatPromptTemplate.from_template(\"tell me a joke about {topic}\")\n",
    "parser = StrOutputParser()\n",
    "chain = prompt | model | parser\n",
    "\n",
    "async for event in chain.astream_events({\"topic\": \"parrot\"}, version=\"v2\"):\n",
    "    kind = event[\"event\"]\n",
    "    if kind == \"on_chat_model_stream\":\n",
    "        print(event, end=\"|\", flush=True)"
   ]
  }
 ],
 "metadata": {
  "kernelspec": {
   "display_name": "thu_tiangong",
   "language": "python",
   "name": "python3"
  },
  "language_info": {
   "codemirror_mode": {
    "name": "ipython",
    "version": 3
   },
   "file_extension": ".py",
   "mimetype": "text/x-python",
   "name": "python",
   "nbconvert_exporter": "python",
   "pygments_lexer": "ipython3",
   "version": "3.8.undefined"
  }
 },
 "nbformat": 4,
 "nbformat_minor": 2
}
